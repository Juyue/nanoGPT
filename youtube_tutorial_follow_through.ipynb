{
 "cells": [
  {
   "cell_type": "code",
   "execution_count": 2,
   "metadata": {},
   "outputs": [],
   "source": [
    "import torch"
   ]
  },
  {
   "cell_type": "code",
   "execution_count": 12,
   "metadata": {},
   "outputs": [
    {
     "name": "stdout",
     "output_type": "stream",
     "text": [
      "--2024-02-16 17:02:10--  https://raw.githubusercontent.com/karpathy/char-rnn/master/data/tinyshakespeare/input.txt\n",
      "Resolving raw.githubusercontent.com (raw.githubusercontent.com)... 185.199.108.133, 185.199.111.133, 185.199.110.133, ...\n",
      "Connecting to raw.githubusercontent.com (raw.githubusercontent.com)|185.199.108.133|:443... connected.\n",
      "HTTP request sent, awaiting response... 200 OK\n",
      "Length: 1115394 (1.1M) [text/plain]\n",
      "Saving to: ‘input.txt’\n",
      "\n",
      "input.txt           100%[===================>]   1.06M  --.-KB/s    in 0.009s  \n",
      "\n",
      "2024-02-16 17:02:10 (122 MB/s) - ‘input.txt’ saved [1115394/1115394]\n",
      "\n"
     ]
    }
   ],
   "source": [
    "!wget https://raw.githubusercontent.com/karpathy/char-rnn/master/data/tinyshakespeare/input.txt"
   ]
  },
  {
   "cell_type": "code",
   "execution_count": 39,
   "metadata": {},
   "outputs": [],
   "source": [
    "with open('input.txt', 'r', encoding=\"utf-8\") as file:\n",
    "    text = file.read()"
   ]
  },
  {
   "cell_type": "code",
   "execution_count": 40,
   "metadata": {},
   "outputs": [
    {
     "name": "stdout",
     "output_type": "stream",
     "text": [
      "length of data: 1115394\n"
     ]
    }
   ],
   "source": [
    "print(f\"length of data: {len(text)}\")"
   ]
  },
  {
   "cell_type": "code",
   "execution_count": 41,
   "metadata": {},
   "outputs": [],
   "source": [
    "chars = sorted(set(text))\n",
    "vocab_size = len(set(chars))"
   ]
  },
  {
   "cell_type": "code",
   "execution_count": 42,
   "metadata": {},
   "outputs": [
    {
     "name": "stdout",
     "output_type": "stream",
     "text": [
      "number of unique characters: 65\n",
      "['\\n', ' ', '!', '$', '&', \"'\", ',', '-', '.', '3', ':', ';', '?', 'A', 'B', 'C', 'D', 'E', 'F', 'G', 'H', 'I', 'J', 'K', 'L', 'M', 'N', 'O', 'P', 'Q', 'R', 'S', 'T', 'U', 'V', 'W', 'X', 'Y', 'Z', 'a', 'b', 'c', 'd', 'e', 'f', 'g', 'h', 'i', 'j', 'k', 'l', 'm', 'n', 'o', 'p', 'q', 'r', 's', 't', 'u', 'v', 'w', 'x', 'y', 'z']\n"
     ]
    }
   ],
   "source": [
    "print(f\"number of unique characters: {vocab_size}\")\n",
    "print(chars)"
   ]
  },
  {
   "cell_type": "code",
   "execution_count": 43,
   "metadata": {},
   "outputs": [
    {
     "name": "stdout",
     "output_type": "stream",
     "text": [
      "hello world [46, 43, 50, 50, 53, 1, 61, 53, 56, 50, 42] hello world\n"
     ]
    }
   ],
   "source": [
    "# build a encoder and decoder; \n",
    "# step 0: build a mapping\n",
    "stoi = {ch: i for i, ch in enumerate(chars)}\n",
    "itos = {i: ch for i, ch in enumerate(chars)}\n",
    "# step 1: write encode/decode functions \n",
    "encode = lambda s: [stoi[ch] for ch in s] # string to int\n",
    "decode = lambda l: ''.join([itos[i] for i in l]) # int to string\n",
    "# step 3: test the functions\n",
    "input_str = \"hello world\"\n",
    "tokens = encode(input_str)\n",
    "decoded_token = decode(tokens)\n",
    "print(input_str, tokens, decoded_token)"
   ]
  },
  {
   "cell_type": "code",
   "execution_count": 26,
   "metadata": {},
   "outputs": [
    {
     "data": {
      "text/plain": [
       "50257"
      ]
     },
     "execution_count": 26,
     "metadata": {},
     "output_type": "execute_result"
    }
   ],
   "source": [
    "## BPE\n",
    "import tiktoken\n",
    "enc = tiktoken.get_encoding(\"gpt2\") # subword tokenizer\n",
    "enc.n_vocab\n",
    "print(enc.encode(input_str))\n",
    "print(enc.decode(enc.encode(input_str)))\n",
    "# trade off between code-book size and sequence length."
   ]
  },
  {
   "cell_type": "code",
   "execution_count": 45,
   "metadata": {},
   "outputs": [
    {
     "name": "stdout",
     "output_type": "stream",
     "text": [
      "tensor([18, 47, 56, 57, 58,  1, 15, 47, 58, 47, 64, 43, 52, 10,  0, 14, 43, 44,\n",
      "        53, 56, 43,  1, 61, 43,  1, 54, 56, 53, 41, 43, 43, 42,  1, 39, 52, 63,\n",
      "         1, 44, 59, 56, 58, 46, 43, 56,  6,  1, 46, 43, 39, 56,  1, 51, 43,  1,\n",
      "        57, 54, 43, 39, 49,  8,  0,  0, 13, 50, 50, 10,  0, 31, 54, 43, 39, 49,\n",
      "         6,  1, 57, 54, 43, 39, 49,  8,  0,  0, 18, 47, 56, 57, 58,  1, 15, 47,\n",
      "        58, 47, 64, 43, 52, 10,  0, 37, 53, 59])\n",
      "torch.Size([1115394]) torch.int64 cpu\n"
     ]
    }
   ],
   "source": [
    "# tokenize the entire shakespear text\n",
    "import torch\n",
    "data = torch.tensor(encode(text), dtype=torch.long)\n",
    "print(data[:100])\n",
    "print(data.shape, data.dtype, data.device)"
   ]
  },
  {
   "cell_type": "code",
   "execution_count": 47,
   "metadata": {},
   "outputs": [],
   "source": [
    "n_train = int(len(data) * 0.9)\n",
    "train_data = data[:n_train]\n",
    "val_data = data[n_train:] "
   ]
  },
  {
   "cell_type": "code",
   "execution_count": 52,
   "metadata": {},
   "outputs": [
    {
     "name": "stdout",
     "output_type": "stream",
     "text": [
      "context 0: , target 0: i\n",
      "context 1: F, target 1: r\n",
      "context 2: Fi, target 2: s\n",
      "context 3: Fir, target 3: t\n",
      "context 4: Firs, target 4:  \n",
      "context 5: First, target 5: C\n",
      "context 6: First , target 6: i\n",
      "context 7: First C, target 7: t\n"
     ]
    }
   ],
   "source": [
    "block_size = 8\n",
    "x = train_data[:block_size]\n",
    "y = train_data[1:block_size+1]\n",
    "for i in range(block_size):\n",
    "    context = [c.item() for c in x[:i]]\n",
    "    target = y[i].item()\n",
    "    print(f\"context {i}: {decode(context)}, target {i}: {decode([target])}\")"
   ]
  },
  {
   "cell_type": "code",
   "execution_count": 53,
   "metadata": {},
   "outputs": [
    {
     "data": {
      "text/plain": [
       "torch.Size([1115394])"
      ]
     },
     "execution_count": 53,
     "metadata": {},
     "output_type": "execute_result"
    }
   ],
   "source": [
    "data.shape"
   ]
  },
  {
   "cell_type": "code",
   "execution_count": 58,
   "metadata": {},
   "outputs": [
    {
     "data": {
      "text/plain": [
       "1115394"
      ]
     },
     "execution_count": 58,
     "metadata": {},
     "output_type": "execute_result"
    }
   ],
   "source": [
    "data.size(0)"
   ]
  },
  {
   "cell_type": "code",
   "execution_count": 61,
   "metadata": {},
   "outputs": [
    {
     "name": "stdout",
     "output_type": "stream",
     "text": [
      "input shape torch.Size([4, 8]), target shape torch.Size([4, 8])\n",
      "--------------------------------------------------------------------------------\n"
     ]
    }
   ],
   "source": [
    "torch.manual_seed(0)\n",
    "batch_size = 4\n",
    "block_size = 8\n",
    "\n",
    "def get_batch(split):\n",
    "    data = train_data if split == \"train\" else val_data\n",
    "    ix = torch.randint(0, data.size(0) - block_size, (batch_size,))\n",
    "    x = torch.stack([data[i:i + block_size] for i in ix])\n",
    "    y = torch.stack([data[i+1:i+block_size+1] for i in ix])\n",
    "    return x, y\n",
    "\n",
    "xb, yb = get_batch(\"train\")\n",
    "print(f\"input shape {xb.shape}, target shape {yb.shape}\")\n",
    "print(\"-\"*80)\n"
   ]
  },
  {
   "cell_type": "code",
   "execution_count": 63,
   "metadata": {},
   "outputs": [
    {
     "name": "stdout",
     "output_type": "stream",
     "text": [
      "--------------------------------------------------------------------------------\n",
      "batch 0\n",
      "context 0: , target 0: e\n",
      "context 0: h, target 0:  \n",
      "context 0: he, target 0: g\n",
      "context 0: he , target 0: i\n",
      "context 0: he g, target 0: v\n",
      "context 0: he gi, target 0: e\n",
      "context 0: he giv, target 0: s\n",
      "context 0: he give, target 0:  \n",
      "--------------------------------------------------------------------------------\n",
      "batch 1\n",
      "context 1: , target 1:  \n",
      "context 1: m, target 1: t\n",
      "context 1: m , target 1: h\n",
      "context 1: m t, target 1: e\n",
      "context 1: m th, target 1:  \n",
      "context 1: m the, target 1: y\n",
      "context 1: m the , target 1: o\n",
      "context 1: m the y, target 1: u\n",
      "--------------------------------------------------------------------------------\n",
      "batch 2\n",
      "context 2: , target 2: l\n",
      "context 2: a, target 2: l\n",
      "context 2: al, target 2:  \n",
      "context 2: all, target 2: y\n",
      "context 2: all , target 2: o\n",
      "context 2: all y, target 2: u\n",
      "context 2: all yo, target 2:  \n",
      "context 2: all you, target 2: h\n",
      "--------------------------------------------------------------------------------\n",
      "batch 3\n",
      "context 3: , target 3: w\n",
      "context 3: o, target 3: n\n",
      "context 3: ow, target 3:  \n",
      "context 3: own, target 3: s\n",
      "context 3: own , target 3: o\n",
      "context 3: own s, target 3: u\n",
      "context 3: own so, target 3: l\n",
      "context 3: own sou, target 3:  \n"
     ]
    }
   ],
   "source": [
    "for i in range(batch_size):\n",
    "    print(\"-\" *80)\n",
    "    print(f\"batch {i}\")\n",
    "    for j in range(block_size):\n",
    "        context = [c.item() for c in xb[i, :j]]\n",
    "        target = yb[i, j].item()\n",
    "        print(f\"context {i}: {decode(context)}, target {i}: {decode([target])}\")"
   ]
  },
  {
   "cell_type": "code",
   "execution_count": 67,
   "metadata": {},
   "outputs": [
    {
     "name": "stdout",
     "output_type": "stream",
     "text": [
      "step 0, loss 4.3190155029296875\n",
      "step 100, loss 3.1772496700286865\n",
      "step 200, loss 2.854595899581909\n",
      "step 300, loss 2.915212869644165\n",
      "step 400, loss 2.7505598068237305\n",
      "step 500, loss 2.8898165225982666\n",
      "step 600, loss 2.4599714279174805\n",
      "step 700, loss 2.5624449253082275\n",
      "step 800, loss 2.5236358642578125\n",
      "step 900, loss 2.459679365158081\n",
      "step 1000, loss 2.338045120239258\n",
      "step 1100, loss 2.621102809906006\n",
      "step 1200, loss 2.4187259674072266\n",
      "step 1300, loss 2.7511627674102783\n",
      "step 1400, loss 2.606264591217041\n",
      "step 1500, loss 2.2556681632995605\n",
      "step 1600, loss 2.5340089797973633\n",
      "step 1700, loss 2.0890870094299316\n",
      "step 1800, loss 2.573977470397949\n",
      "step 1900, loss 2.402107000350952\n",
      "step 2000, loss 2.359531879425049\n",
      "step 2100, loss 2.07576847076416\n",
      "step 2200, loss 2.3776299953460693\n",
      "step 2300, loss 3.0178375244140625\n",
      "step 2400, loss 2.808868885040283\n",
      "step 2500, loss 2.6700589656829834\n",
      "step 2600, loss 2.4515349864959717\n",
      "step 2700, loss 2.632955312728882\n",
      "step 2800, loss 2.3568272590637207\n",
      "step 2900, loss 2.6156232357025146\n",
      "step 3000, loss 2.1757993698120117\n",
      "step 3100, loss 2.4106459617614746\n",
      "step 3200, loss 2.6200191974639893\n",
      "step 3300, loss 2.5335917472839355\n",
      "step 3400, loss 2.5067179203033447\n",
      "step 3500, loss 2.40553879737854\n",
      "step 3600, loss 2.5263519287109375\n",
      "step 3700, loss 2.385746955871582\n",
      "step 3800, loss 2.3849639892578125\n",
      "step 3900, loss 2.295095682144165\n",
      "step 4000, loss 2.3036248683929443\n",
      "step 4100, loss 2.46189022064209\n",
      "step 4200, loss 2.3825643062591553\n",
      "step 4300, loss 2.3315768241882324\n",
      "step 4400, loss 2.606560707092285\n",
      "step 4500, loss 2.822709798812866\n",
      "step 4600, loss 2.497924566268921\n",
      "step 4700, loss 2.572761297225952\n",
      "step 4800, loss 2.2107913494110107\n",
      "step 4900, loss 2.5746207237243652\n",
      "step 5000, loss 2.750899076461792\n",
      "step 5100, loss 2.764566659927368\n",
      "step 5200, loss 2.3678231239318848\n",
      "step 5300, loss 2.522549629211426\n",
      "step 5400, loss 2.6414778232574463\n",
      "step 5500, loss 2.8115036487579346\n",
      "step 5600, loss 2.376343011856079\n",
      "step 5700, loss 2.2914466857910156\n",
      "step 5800, loss 2.5579655170440674\n",
      "step 5900, loss 2.0442683696746826\n",
      "step 6000, loss 2.721774101257324\n",
      "step 6100, loss 2.278862237930298\n",
      "step 6200, loss 2.4285356998443604\n",
      "step 6300, loss 2.7175774574279785\n",
      "step 6400, loss 2.3150787353515625\n",
      "step 6500, loss 2.9371566772460938\n",
      "step 6600, loss 2.606034755706787\n",
      "step 6700, loss 2.30660343170166\n",
      "step 6800, loss 2.548295497894287\n",
      "step 6900, loss 2.8083271980285645\n",
      "step 7000, loss 2.4084699153900146\n",
      "step 7100, loss 2.135591983795166\n",
      "step 7200, loss 2.591007947921753\n",
      "step 7300, loss 2.4926459789276123\n",
      "step 7400, loss 2.457268238067627\n",
      "step 7500, loss 2.2406492233276367\n",
      "step 7600, loss 2.402393341064453\n",
      "step 7700, loss 2.5668888092041016\n",
      "step 7800, loss 2.7416954040527344\n",
      "step 7900, loss 2.0593008995056152\n",
      "step 8000, loss 2.9743683338165283\n",
      "step 8100, loss 2.404576301574707\n",
      "step 8200, loss 2.306100368499756\n",
      "step 8300, loss 2.4979379177093506\n",
      "step 8400, loss 2.495126485824585\n",
      "step 8500, loss 2.1139724254608154\n",
      "step 8600, loss 2.771711826324463\n",
      "step 8700, loss 2.950683355331421\n",
      "step 8800, loss 2.1258199214935303\n",
      "step 8900, loss 2.4140243530273438\n",
      "step 9000, loss 2.489468574523926\n",
      "step 9100, loss 2.6088616847991943\n",
      "step 9200, loss 2.5467379093170166\n",
      "step 9300, loss 2.5569701194763184\n",
      "step 9400, loss 2.50632905960083\n",
      "step 9500, loss 2.1702892780303955\n",
      "step 9600, loss 2.372913360595703\n",
      "step 9700, loss 2.2429380416870117\n",
      "step 9800, loss 2.4354052543640137\n",
      "step 9900, loss 2.807389974594116\n",
      "step 10000, loss 2.423323631286621\n",
      "step 10100, loss 2.5367555618286133\n",
      "step 10200, loss 2.732490062713623\n",
      "step 10300, loss 2.466681480407715\n",
      "step 10400, loss 2.5212254524230957\n",
      "step 10500, loss 2.5724873542785645\n",
      "step 10600, loss 2.0661256313323975\n",
      "step 10700, loss 2.3936071395874023\n",
      "step 10800, loss 2.2644143104553223\n",
      "step 10900, loss 2.046262502670288\n",
      "step 11000, loss 2.9051263332366943\n",
      "step 11100, loss 2.3844597339630127\n",
      "step 11200, loss 2.7631161212921143\n",
      "step 11300, loss 2.594748020172119\n",
      "step 11400, loss 2.3746159076690674\n",
      "step 11500, loss 2.3126087188720703\n",
      "step 11600, loss 2.904574394226074\n",
      "step 11700, loss 2.55584716796875\n",
      "step 11800, loss 2.9194095134735107\n",
      "step 11900, loss 2.6516411304473877\n",
      "step 12000, loss 2.4290173053741455\n",
      "step 12100, loss 2.173687219619751\n",
      "step 12200, loss 2.7043192386627197\n",
      "step 12300, loss 2.237271547317505\n",
      "step 12400, loss 2.2057156562805176\n",
      "step 12500, loss 2.2049174308776855\n",
      "step 12600, loss 2.377335548400879\n",
      "step 12700, loss 2.0337512493133545\n",
      "step 12800, loss 2.528001070022583\n",
      "step 12900, loss 2.4623026847839355\n",
      "step 13000, loss 2.1692397594451904\n",
      "step 13100, loss 2.631211280822754\n",
      "step 13200, loss 2.902738332748413\n",
      "step 13300, loss 2.391846179962158\n",
      "step 13400, loss 2.5555601119995117\n",
      "step 13500, loss 2.490199089050293\n",
      "step 13600, loss 2.0993032455444336\n",
      "step 13700, loss 2.9197583198547363\n",
      "step 13800, loss 2.682034492492676\n",
      "step 13900, loss 2.6710944175720215\n",
      "step 14000, loss 2.6511313915252686\n",
      "step 14100, loss 2.614635467529297\n",
      "step 14200, loss 2.2515811920166016\n",
      "step 14300, loss 2.392317056655884\n",
      "step 14400, loss 2.2624127864837646\n",
      "step 14500, loss 2.4863784313201904\n",
      "step 14600, loss 2.4640142917633057\n",
      "step 14700, loss 2.7894058227539062\n",
      "step 14800, loss 2.581202268600464\n",
      "step 14900, loss 2.2127737998962402\n",
      "step 15000, loss 2.4017884731292725\n",
      "step 15100, loss 2.4725496768951416\n",
      "step 15200, loss 2.7898101806640625\n",
      "step 15300, loss 2.5550296306610107\n",
      "step 15400, loss 2.5134854316711426\n",
      "step 15500, loss 2.5732364654541016\n",
      "step 15600, loss 2.5162386894226074\n",
      "step 15700, loss 2.54262113571167\n",
      "step 15800, loss 2.759873628616333\n",
      "step 15900, loss 2.9126017093658447\n",
      "step 16000, loss 2.5739612579345703\n",
      "step 16100, loss 2.073516368865967\n",
      "step 16200, loss 2.8973000049591064\n",
      "step 16300, loss 3.023737668991089\n",
      "step 16400, loss 2.6758553981781006\n",
      "step 16500, loss 2.3715059757232666\n",
      "step 16600, loss 2.022714376449585\n",
      "step 16700, loss 2.3588666915893555\n",
      "step 16800, loss 2.411560535430908\n",
      "step 16900, loss 2.3892228603363037\n",
      "step 17000, loss 2.9064979553222656\n",
      "step 17100, loss 2.8938801288604736\n",
      "step 17200, loss 2.462634563446045\n",
      "step 17300, loss 2.470913887023926\n",
      "step 17400, loss 2.093374252319336\n",
      "step 17500, loss 2.375652313232422\n",
      "step 17600, loss 2.2091050148010254\n",
      "step 17700, loss 2.343871593475342\n",
      "step 17800, loss 2.1416690349578857\n",
      "step 17900, loss 2.7974565029144287\n",
      "step 18000, loss 2.6507787704467773\n",
      "step 18100, loss 2.5406582355499268\n",
      "step 18200, loss 2.257204055786133\n",
      "step 18300, loss 2.1834254264831543\n",
      "step 18400, loss 2.4092159271240234\n",
      "step 18500, loss 2.1833224296569824\n",
      "step 18600, loss 2.7224314212799072\n",
      "step 18700, loss 2.446343183517456\n",
      "step 18800, loss 2.5634171962738037\n",
      "step 18900, loss 2.5674567222595215\n",
      "step 19000, loss 2.607520818710327\n",
      "step 19100, loss 2.3539953231811523\n",
      "step 19200, loss 2.154991626739502\n",
      "step 19300, loss 2.3446333408355713\n",
      "step 19400, loss 2.4757518768310547\n",
      "step 19500, loss 2.5307247638702393\n",
      "step 19600, loss 2.7676198482513428\n",
      "step 19700, loss 2.4406538009643555\n",
      "step 19800, loss 1.9782015085220337\n",
      "step 19900, loss 2.3032805919647217\n",
      "step 20000, loss 2.6017656326293945\n",
      "step 20100, loss 2.829963445663452\n",
      "step 20200, loss 2.4102210998535156\n",
      "step 20300, loss 2.489622116088867\n",
      "step 20400, loss 2.200096845626831\n",
      "step 20500, loss 2.520109176635742\n",
      "step 20600, loss 2.2968862056732178\n",
      "step 20700, loss 2.366593360900879\n",
      "step 20800, loss 2.8591840267181396\n",
      "step 20900, loss 2.635751247406006\n",
      "step 21000, loss 2.6892569065093994\n",
      "step 21100, loss 2.0799155235290527\n",
      "step 21200, loss 2.980942964553833\n",
      "step 21300, loss 2.469907522201538\n",
      "step 21400, loss 3.0170228481292725\n",
      "step 21500, loss 2.5026795864105225\n",
      "step 21600, loss 2.3177218437194824\n",
      "step 21700, loss 2.612433910369873\n",
      "step 21800, loss 2.749497652053833\n",
      "step 21900, loss 2.2676210403442383\n",
      "step 22000, loss 2.3832945823669434\n",
      "step 22100, loss 2.0283637046813965\n",
      "step 22200, loss 2.3832709789276123\n",
      "step 22300, loss 2.6361708641052246\n",
      "step 22400, loss 2.547178268432617\n",
      "step 22500, loss 2.9046897888183594\n",
      "step 22600, loss 2.1516659259796143\n",
      "step 22700, loss 2.518972158432007\n",
      "step 22800, loss 2.535057306289673\n",
      "step 22900, loss 2.4780449867248535\n",
      "step 23000, loss 2.5526413917541504\n",
      "step 23100, loss 2.316067934036255\n",
      "step 23200, loss 2.314505100250244\n",
      "step 23300, loss 2.6162989139556885\n",
      "step 23400, loss 2.4342713356018066\n",
      "step 23500, loss 2.4286537170410156\n",
      "step 23600, loss 2.007178783416748\n",
      "step 23700, loss 2.5864202976226807\n",
      "step 23800, loss 2.388256788253784\n",
      "step 23900, loss 2.537832498550415\n",
      "step 24000, loss 2.667550563812256\n",
      "step 24100, loss 2.4210071563720703\n",
      "step 24200, loss 2.718247890472412\n",
      "step 24300, loss 2.4864351749420166\n",
      "step 24400, loss 2.1637508869171143\n",
      "step 24500, loss 2.5795533657073975\n",
      "step 24600, loss 2.387634038925171\n",
      "step 24700, loss 2.3723983764648438\n",
      "step 24800, loss 2.289165735244751\n",
      "step 24900, loss 2.5651791095733643\n",
      "step 25000, loss 2.1059370040893555\n",
      "step 25100, loss 2.435750961303711\n",
      "step 25200, loss 2.3717799186706543\n",
      "step 25300, loss 2.193387985229492\n",
      "step 25400, loss 2.7842824459075928\n",
      "step 25500, loss 2.4795331954956055\n",
      "step 25600, loss 2.3263258934020996\n",
      "step 25700, loss 3.073983907699585\n",
      "step 25800, loss 2.9740171432495117\n",
      "step 25900, loss 2.3398044109344482\n",
      "step 26000, loss 2.425117015838623\n",
      "step 26100, loss 2.5004053115844727\n",
      "step 26200, loss 2.679063558578491\n",
      "step 26300, loss 2.402472496032715\n",
      "step 26400, loss 2.321554183959961\n",
      "step 26500, loss 2.2478604316711426\n",
      "step 26600, loss 2.4505553245544434\n",
      "step 26700, loss 2.7190401554107666\n",
      "step 26800, loss 2.3771004676818848\n",
      "step 26900, loss 2.2673733234405518\n",
      "step 27000, loss 2.583709478378296\n",
      "step 27100, loss 2.6437594890594482\n",
      "step 27200, loss 2.555464029312134\n",
      "step 27300, loss 2.6960277557373047\n",
      "step 27400, loss 2.3208389282226562\n",
      "step 27500, loss 2.3529422283172607\n",
      "step 27600, loss 2.4896528720855713\n",
      "step 27700, loss 2.204334020614624\n",
      "step 27800, loss 2.151362419128418\n",
      "step 27900, loss 2.694087028503418\n",
      "step 28000, loss 2.53355073928833\n",
      "step 28100, loss 2.438955068588257\n",
      "step 28200, loss 2.670086145401001\n",
      "step 28300, loss 2.332944869995117\n",
      "step 28400, loss 2.3759100437164307\n",
      "step 28500, loss 3.0970849990844727\n",
      "step 28600, loss 2.565746784210205\n",
      "step 28700, loss 2.435931921005249\n",
      "step 28800, loss 2.719053268432617\n",
      "step 28900, loss 2.697268009185791\n",
      "step 29000, loss 2.3861000537872314\n",
      "step 29100, loss 2.148531436920166\n",
      "step 29200, loss 2.3074638843536377\n",
      "step 29300, loss 2.3543906211853027\n",
      "step 29400, loss 2.2900967597961426\n",
      "step 29500, loss 2.3838260173797607\n",
      "step 29600, loss 2.4498164653778076\n",
      "step 29700, loss 2.7059342861175537\n",
      "step 29800, loss 2.5327043533325195\n",
      "step 29900, loss 2.4392364025115967\n",
      "step 30000, loss 2.4703149795532227\n",
      "step 30100, loss 2.4374537467956543\n",
      "step 30200, loss 2.4859118461608887\n",
      "step 30300, loss 2.1197783946990967\n",
      "step 30400, loss 2.3381540775299072\n",
      "step 30500, loss 2.0998952388763428\n",
      "step 30600, loss 2.945673942565918\n",
      "step 30700, loss 2.27404522895813\n",
      "step 30800, loss 2.5733916759490967\n",
      "step 30900, loss 2.4316225051879883\n",
      "step 31000, loss 2.5643362998962402\n"
     ]
    },
    {
     "ename": "KeyboardInterrupt",
     "evalue": "",
     "output_type": "error",
     "traceback": [
      "\u001b[0;31m---------------------------------------------------------------------------\u001b[0m",
      "\u001b[0;31mKeyboardInterrupt\u001b[0m                         Traceback (most recent call last)",
      "Cell \u001b[0;32mIn[67], line 30\u001b[0m\n\u001b[1;32m     28\u001b[0m optimizer\u001b[38;5;241m.\u001b[39mzero_grad()\n\u001b[1;32m     29\u001b[0m loss\u001b[38;5;241m.\u001b[39mbackward()\n\u001b[0;32m---> 30\u001b[0m \u001b[43moptimizer\u001b[49m\u001b[38;5;241;43m.\u001b[39;49m\u001b[43mstep\u001b[49m\u001b[43m(\u001b[49m\u001b[43m)\u001b[49m\n",
      "File \u001b[0;32m~/.conda/envs/nanoGPT/lib/python3.10/site-packages/torch/optim/optimizer.py:385\u001b[0m, in \u001b[0;36mOptimizer.profile_hook_step.<locals>.wrapper\u001b[0;34m(*args, **kwargs)\u001b[0m\n\u001b[1;32m    380\u001b[0m         \u001b[38;5;28;01melse\u001b[39;00m:\n\u001b[1;32m    381\u001b[0m             \u001b[38;5;28;01mraise\u001b[39;00m \u001b[38;5;167;01mRuntimeError\u001b[39;00m(\n\u001b[1;32m    382\u001b[0m                 \u001b[38;5;124mf\u001b[39m\u001b[38;5;124m\"\u001b[39m\u001b[38;5;132;01m{\u001b[39;00mfunc\u001b[38;5;132;01m}\u001b[39;00m\u001b[38;5;124m must return None or a tuple of (new_args, new_kwargs), but got \u001b[39m\u001b[38;5;132;01m{\u001b[39;00mresult\u001b[38;5;132;01m}\u001b[39;00m\u001b[38;5;124m.\u001b[39m\u001b[38;5;124m\"\u001b[39m\n\u001b[1;32m    383\u001b[0m             )\n\u001b[0;32m--> 385\u001b[0m out \u001b[38;5;241m=\u001b[39m \u001b[43mfunc\u001b[49m\u001b[43m(\u001b[49m\u001b[38;5;241;43m*\u001b[39;49m\u001b[43margs\u001b[49m\u001b[43m,\u001b[49m\u001b[43m \u001b[49m\u001b[38;5;241;43m*\u001b[39;49m\u001b[38;5;241;43m*\u001b[39;49m\u001b[43mkwargs\u001b[49m\u001b[43m)\u001b[49m\n\u001b[1;32m    386\u001b[0m \u001b[38;5;28mself\u001b[39m\u001b[38;5;241m.\u001b[39m_optimizer_step_code()\n\u001b[1;32m    388\u001b[0m \u001b[38;5;66;03m# call optimizer step post hooks\u001b[39;00m\n",
      "File \u001b[0;32m~/.conda/envs/nanoGPT/lib/python3.10/site-packages/torch/optim/optimizer.py:76\u001b[0m, in \u001b[0;36m_use_grad_for_differentiable.<locals>._use_grad\u001b[0;34m(self, *args, **kwargs)\u001b[0m\n\u001b[1;32m     74\u001b[0m     torch\u001b[38;5;241m.\u001b[39mset_grad_enabled(\u001b[38;5;28mself\u001b[39m\u001b[38;5;241m.\u001b[39mdefaults[\u001b[38;5;124m'\u001b[39m\u001b[38;5;124mdifferentiable\u001b[39m\u001b[38;5;124m'\u001b[39m])\n\u001b[1;32m     75\u001b[0m     torch\u001b[38;5;241m.\u001b[39m_dynamo\u001b[38;5;241m.\u001b[39mgraph_break()\n\u001b[0;32m---> 76\u001b[0m     ret \u001b[38;5;241m=\u001b[39m \u001b[43mfunc\u001b[49m\u001b[43m(\u001b[49m\u001b[38;5;28;43mself\u001b[39;49m\u001b[43m,\u001b[49m\u001b[43m \u001b[49m\u001b[38;5;241;43m*\u001b[39;49m\u001b[43margs\u001b[49m\u001b[43m,\u001b[49m\u001b[43m \u001b[49m\u001b[38;5;241;43m*\u001b[39;49m\u001b[38;5;241;43m*\u001b[39;49m\u001b[43mkwargs\u001b[49m\u001b[43m)\u001b[49m\n\u001b[1;32m     77\u001b[0m \u001b[38;5;28;01mfinally\u001b[39;00m:\n\u001b[1;32m     78\u001b[0m     torch\u001b[38;5;241m.\u001b[39m_dynamo\u001b[38;5;241m.\u001b[39mgraph_break()\n",
      "File \u001b[0;32m~/.conda/envs/nanoGPT/lib/python3.10/site-packages/torch/optim/adam.py:166\u001b[0m, in \u001b[0;36mAdam.step\u001b[0;34m(self, closure)\u001b[0m\n\u001b[1;32m    155\u001b[0m     beta1, beta2 \u001b[38;5;241m=\u001b[39m group[\u001b[38;5;124m'\u001b[39m\u001b[38;5;124mbetas\u001b[39m\u001b[38;5;124m'\u001b[39m]\n\u001b[1;32m    157\u001b[0m     has_complex \u001b[38;5;241m=\u001b[39m \u001b[38;5;28mself\u001b[39m\u001b[38;5;241m.\u001b[39m_init_group(\n\u001b[1;32m    158\u001b[0m         group,\n\u001b[1;32m    159\u001b[0m         params_with_grad,\n\u001b[0;32m   (...)\u001b[0m\n\u001b[1;32m    163\u001b[0m         max_exp_avg_sqs,\n\u001b[1;32m    164\u001b[0m         state_steps)\n\u001b[0;32m--> 166\u001b[0m     \u001b[43madam\u001b[49m\u001b[43m(\u001b[49m\n\u001b[1;32m    167\u001b[0m \u001b[43m        \u001b[49m\u001b[43mparams_with_grad\u001b[49m\u001b[43m,\u001b[49m\n\u001b[1;32m    168\u001b[0m \u001b[43m        \u001b[49m\u001b[43mgrads\u001b[49m\u001b[43m,\u001b[49m\n\u001b[1;32m    169\u001b[0m \u001b[43m        \u001b[49m\u001b[43mexp_avgs\u001b[49m\u001b[43m,\u001b[49m\n\u001b[1;32m    170\u001b[0m \u001b[43m        \u001b[49m\u001b[43mexp_avg_sqs\u001b[49m\u001b[43m,\u001b[49m\n\u001b[1;32m    171\u001b[0m \u001b[43m        \u001b[49m\u001b[43mmax_exp_avg_sqs\u001b[49m\u001b[43m,\u001b[49m\n\u001b[1;32m    172\u001b[0m \u001b[43m        \u001b[49m\u001b[43mstate_steps\u001b[49m\u001b[43m,\u001b[49m\n\u001b[1;32m    173\u001b[0m \u001b[43m        \u001b[49m\u001b[43mamsgrad\u001b[49m\u001b[38;5;241;43m=\u001b[39;49m\u001b[43mgroup\u001b[49m\u001b[43m[\u001b[49m\u001b[38;5;124;43m'\u001b[39;49m\u001b[38;5;124;43mamsgrad\u001b[39;49m\u001b[38;5;124;43m'\u001b[39;49m\u001b[43m]\u001b[49m\u001b[43m,\u001b[49m\n\u001b[1;32m    174\u001b[0m \u001b[43m        \u001b[49m\u001b[43mhas_complex\u001b[49m\u001b[38;5;241;43m=\u001b[39;49m\u001b[43mhas_complex\u001b[49m\u001b[43m,\u001b[49m\n\u001b[1;32m    175\u001b[0m \u001b[43m        \u001b[49m\u001b[43mbeta1\u001b[49m\u001b[38;5;241;43m=\u001b[39;49m\u001b[43mbeta1\u001b[49m\u001b[43m,\u001b[49m\n\u001b[1;32m    176\u001b[0m \u001b[43m        \u001b[49m\u001b[43mbeta2\u001b[49m\u001b[38;5;241;43m=\u001b[39;49m\u001b[43mbeta2\u001b[49m\u001b[43m,\u001b[49m\n\u001b[1;32m    177\u001b[0m \u001b[43m        \u001b[49m\u001b[43mlr\u001b[49m\u001b[38;5;241;43m=\u001b[39;49m\u001b[43mgroup\u001b[49m\u001b[43m[\u001b[49m\u001b[38;5;124;43m'\u001b[39;49m\u001b[38;5;124;43mlr\u001b[39;49m\u001b[38;5;124;43m'\u001b[39;49m\u001b[43m]\u001b[49m\u001b[43m,\u001b[49m\n\u001b[1;32m    178\u001b[0m \u001b[43m        \u001b[49m\u001b[43mweight_decay\u001b[49m\u001b[38;5;241;43m=\u001b[39;49m\u001b[43mgroup\u001b[49m\u001b[43m[\u001b[49m\u001b[38;5;124;43m'\u001b[39;49m\u001b[38;5;124;43mweight_decay\u001b[39;49m\u001b[38;5;124;43m'\u001b[39;49m\u001b[43m]\u001b[49m\u001b[43m,\u001b[49m\n\u001b[1;32m    179\u001b[0m \u001b[43m        \u001b[49m\u001b[43meps\u001b[49m\u001b[38;5;241;43m=\u001b[39;49m\u001b[43mgroup\u001b[49m\u001b[43m[\u001b[49m\u001b[38;5;124;43m'\u001b[39;49m\u001b[38;5;124;43meps\u001b[39;49m\u001b[38;5;124;43m'\u001b[39;49m\u001b[43m]\u001b[49m\u001b[43m,\u001b[49m\n\u001b[1;32m    180\u001b[0m \u001b[43m        \u001b[49m\u001b[43mmaximize\u001b[49m\u001b[38;5;241;43m=\u001b[39;49m\u001b[43mgroup\u001b[49m\u001b[43m[\u001b[49m\u001b[38;5;124;43m'\u001b[39;49m\u001b[38;5;124;43mmaximize\u001b[39;49m\u001b[38;5;124;43m'\u001b[39;49m\u001b[43m]\u001b[49m\u001b[43m,\u001b[49m\n\u001b[1;32m    181\u001b[0m \u001b[43m        \u001b[49m\u001b[43mforeach\u001b[49m\u001b[38;5;241;43m=\u001b[39;49m\u001b[43mgroup\u001b[49m\u001b[43m[\u001b[49m\u001b[38;5;124;43m'\u001b[39;49m\u001b[38;5;124;43mforeach\u001b[39;49m\u001b[38;5;124;43m'\u001b[39;49m\u001b[43m]\u001b[49m\u001b[43m,\u001b[49m\n\u001b[1;32m    182\u001b[0m \u001b[43m        \u001b[49m\u001b[43mcapturable\u001b[49m\u001b[38;5;241;43m=\u001b[39;49m\u001b[43mgroup\u001b[49m\u001b[43m[\u001b[49m\u001b[38;5;124;43m'\u001b[39;49m\u001b[38;5;124;43mcapturable\u001b[39;49m\u001b[38;5;124;43m'\u001b[39;49m\u001b[43m]\u001b[49m\u001b[43m,\u001b[49m\n\u001b[1;32m    183\u001b[0m \u001b[43m        \u001b[49m\u001b[43mdifferentiable\u001b[49m\u001b[38;5;241;43m=\u001b[39;49m\u001b[43mgroup\u001b[49m\u001b[43m[\u001b[49m\u001b[38;5;124;43m'\u001b[39;49m\u001b[38;5;124;43mdifferentiable\u001b[39;49m\u001b[38;5;124;43m'\u001b[39;49m\u001b[43m]\u001b[49m\u001b[43m,\u001b[49m\n\u001b[1;32m    184\u001b[0m \u001b[43m        \u001b[49m\u001b[43mfused\u001b[49m\u001b[38;5;241;43m=\u001b[39;49m\u001b[43mgroup\u001b[49m\u001b[43m[\u001b[49m\u001b[38;5;124;43m'\u001b[39;49m\u001b[38;5;124;43mfused\u001b[39;49m\u001b[38;5;124;43m'\u001b[39;49m\u001b[43m]\u001b[49m\u001b[43m,\u001b[49m\n\u001b[1;32m    185\u001b[0m \u001b[43m        \u001b[49m\u001b[43mgrad_scale\u001b[49m\u001b[38;5;241;43m=\u001b[39;49m\u001b[38;5;28;43mgetattr\u001b[39;49m\u001b[43m(\u001b[49m\u001b[38;5;28;43mself\u001b[39;49m\u001b[43m,\u001b[49m\u001b[43m \u001b[49m\u001b[38;5;124;43m\"\u001b[39;49m\u001b[38;5;124;43mgrad_scale\u001b[39;49m\u001b[38;5;124;43m\"\u001b[39;49m\u001b[43m,\u001b[49m\u001b[43m \u001b[49m\u001b[38;5;28;43;01mNone\u001b[39;49;00m\u001b[43m)\u001b[49m\u001b[43m,\u001b[49m\n\u001b[1;32m    186\u001b[0m \u001b[43m        \u001b[49m\u001b[43mfound_inf\u001b[49m\u001b[38;5;241;43m=\u001b[39;49m\u001b[38;5;28;43mgetattr\u001b[39;49m\u001b[43m(\u001b[49m\u001b[38;5;28;43mself\u001b[39;49m\u001b[43m,\u001b[49m\u001b[43m \u001b[49m\u001b[38;5;124;43m\"\u001b[39;49m\u001b[38;5;124;43mfound_inf\u001b[39;49m\u001b[38;5;124;43m\"\u001b[39;49m\u001b[43m,\u001b[49m\u001b[43m \u001b[49m\u001b[38;5;28;43;01mNone\u001b[39;49;00m\u001b[43m)\u001b[49m\u001b[43m,\u001b[49m\n\u001b[1;32m    187\u001b[0m \u001b[43m    \u001b[49m\u001b[43m)\u001b[49m\n\u001b[1;32m    189\u001b[0m \u001b[38;5;28;01mreturn\u001b[39;00m loss\n",
      "File \u001b[0;32m~/.conda/envs/nanoGPT/lib/python3.10/site-packages/torch/optim/adam.py:316\u001b[0m, in \u001b[0;36madam\u001b[0;34m(params, grads, exp_avgs, exp_avg_sqs, max_exp_avg_sqs, state_steps, foreach, capturable, differentiable, fused, grad_scale, found_inf, has_complex, amsgrad, beta1, beta2, lr, weight_decay, eps, maximize)\u001b[0m\n\u001b[1;32m    313\u001b[0m \u001b[38;5;28;01melse\u001b[39;00m:\n\u001b[1;32m    314\u001b[0m     func \u001b[38;5;241m=\u001b[39m _single_tensor_adam\n\u001b[0;32m--> 316\u001b[0m \u001b[43mfunc\u001b[49m\u001b[43m(\u001b[49m\u001b[43mparams\u001b[49m\u001b[43m,\u001b[49m\n\u001b[1;32m    317\u001b[0m \u001b[43m     \u001b[49m\u001b[43mgrads\u001b[49m\u001b[43m,\u001b[49m\n\u001b[1;32m    318\u001b[0m \u001b[43m     \u001b[49m\u001b[43mexp_avgs\u001b[49m\u001b[43m,\u001b[49m\n\u001b[1;32m    319\u001b[0m \u001b[43m     \u001b[49m\u001b[43mexp_avg_sqs\u001b[49m\u001b[43m,\u001b[49m\n\u001b[1;32m    320\u001b[0m \u001b[43m     \u001b[49m\u001b[43mmax_exp_avg_sqs\u001b[49m\u001b[43m,\u001b[49m\n\u001b[1;32m    321\u001b[0m \u001b[43m     \u001b[49m\u001b[43mstate_steps\u001b[49m\u001b[43m,\u001b[49m\n\u001b[1;32m    322\u001b[0m \u001b[43m     \u001b[49m\u001b[43mamsgrad\u001b[49m\u001b[38;5;241;43m=\u001b[39;49m\u001b[43mamsgrad\u001b[49m\u001b[43m,\u001b[49m\n\u001b[1;32m    323\u001b[0m \u001b[43m     \u001b[49m\u001b[43mhas_complex\u001b[49m\u001b[38;5;241;43m=\u001b[39;49m\u001b[43mhas_complex\u001b[49m\u001b[43m,\u001b[49m\n\u001b[1;32m    324\u001b[0m \u001b[43m     \u001b[49m\u001b[43mbeta1\u001b[49m\u001b[38;5;241;43m=\u001b[39;49m\u001b[43mbeta1\u001b[49m\u001b[43m,\u001b[49m\n\u001b[1;32m    325\u001b[0m \u001b[43m     \u001b[49m\u001b[43mbeta2\u001b[49m\u001b[38;5;241;43m=\u001b[39;49m\u001b[43mbeta2\u001b[49m\u001b[43m,\u001b[49m\n\u001b[1;32m    326\u001b[0m \u001b[43m     \u001b[49m\u001b[43mlr\u001b[49m\u001b[38;5;241;43m=\u001b[39;49m\u001b[43mlr\u001b[49m\u001b[43m,\u001b[49m\n\u001b[1;32m    327\u001b[0m \u001b[43m     \u001b[49m\u001b[43mweight_decay\u001b[49m\u001b[38;5;241;43m=\u001b[39;49m\u001b[43mweight_decay\u001b[49m\u001b[43m,\u001b[49m\n\u001b[1;32m    328\u001b[0m \u001b[43m     \u001b[49m\u001b[43meps\u001b[49m\u001b[38;5;241;43m=\u001b[39;49m\u001b[43meps\u001b[49m\u001b[43m,\u001b[49m\n\u001b[1;32m    329\u001b[0m \u001b[43m     \u001b[49m\u001b[43mmaximize\u001b[49m\u001b[38;5;241;43m=\u001b[39;49m\u001b[43mmaximize\u001b[49m\u001b[43m,\u001b[49m\n\u001b[1;32m    330\u001b[0m \u001b[43m     \u001b[49m\u001b[43mcapturable\u001b[49m\u001b[38;5;241;43m=\u001b[39;49m\u001b[43mcapturable\u001b[49m\u001b[43m,\u001b[49m\n\u001b[1;32m    331\u001b[0m \u001b[43m     \u001b[49m\u001b[43mdifferentiable\u001b[49m\u001b[38;5;241;43m=\u001b[39;49m\u001b[43mdifferentiable\u001b[49m\u001b[43m,\u001b[49m\n\u001b[1;32m    332\u001b[0m \u001b[43m     \u001b[49m\u001b[43mgrad_scale\u001b[49m\u001b[38;5;241;43m=\u001b[39;49m\u001b[43mgrad_scale\u001b[49m\u001b[43m,\u001b[49m\n\u001b[1;32m    333\u001b[0m \u001b[43m     \u001b[49m\u001b[43mfound_inf\u001b[49m\u001b[38;5;241;43m=\u001b[39;49m\u001b[43mfound_inf\u001b[49m\u001b[43m)\u001b[49m\n",
      "File \u001b[0;32m~/.conda/envs/nanoGPT/lib/python3.10/site-packages/torch/optim/adam.py:439\u001b[0m, in \u001b[0;36m_single_tensor_adam\u001b[0;34m(params, grads, exp_avgs, exp_avg_sqs, max_exp_avg_sqs, state_steps, grad_scale, found_inf, amsgrad, has_complex, beta1, beta2, lr, weight_decay, eps, maximize, capturable, differentiable)\u001b[0m\n\u001b[1;32m    437\u001b[0m         denom \u001b[38;5;241m=\u001b[39m (max_exp_avg_sqs[i]\u001b[38;5;241m.\u001b[39msqrt() \u001b[38;5;241m/\u001b[39m bias_correction2_sqrt)\u001b[38;5;241m.\u001b[39madd_(eps)\n\u001b[1;32m    438\u001b[0m     \u001b[38;5;28;01melse\u001b[39;00m:\n\u001b[0;32m--> 439\u001b[0m         denom \u001b[38;5;241m=\u001b[39m \u001b[43m(\u001b[49m\u001b[43mexp_avg_sq\u001b[49m\u001b[38;5;241;43m.\u001b[39;49m\u001b[43msqrt\u001b[49m\u001b[43m(\u001b[49m\u001b[43m)\u001b[49m\u001b[43m \u001b[49m\u001b[38;5;241;43m/\u001b[39;49m\u001b[43m \u001b[49m\u001b[43mbias_correction2_sqrt\u001b[49m\u001b[43m)\u001b[49m\u001b[38;5;241;43m.\u001b[39;49m\u001b[43madd_\u001b[49m\u001b[43m(\u001b[49m\u001b[43meps\u001b[49m\u001b[43m)\u001b[49m\n\u001b[1;32m    441\u001b[0m     param\u001b[38;5;241m.\u001b[39maddcdiv_(exp_avg, denom, value\u001b[38;5;241m=\u001b[39m\u001b[38;5;241m-\u001b[39mstep_size)\n\u001b[1;32m    443\u001b[0m \u001b[38;5;66;03m# Lastly, switch back to complex view\u001b[39;00m\n",
      "\u001b[0;31mKeyboardInterrupt\u001b[0m: "
     ]
    }
   ],
   "source": [
    "# build a bigram model P(x_t | x_{t-1}), or P(y | x)\n",
    "class BigramLanguageModel(torch.nn.Module):\n",
    "    def __init__(self, vocab_size, embedding_dim):\n",
    "        super().__init__()\n",
    "        self.embedding = torch.nn.Embedding(vocab_size, embedding_dim)\n",
    "        self.fc = torch.nn.Linear(embedding_dim, vocab_size)\n",
    "    def forward(self, x):\n",
    "        x = self.embedding(x) # (batch_size, block_size, embedding_dim)\n",
    "        x = self.fc(x) # (batch_size, block_size, vocab_size)\n",
    "        return x\n",
    "\n",
    "loss_fn = torch.nn.CrossEntropyLoss()\n",
    "model = BigramLanguageModel(vocab_size, 128)\n",
    "optimizer = torch.optim.Adam(model.parameters(), lr=0.001)\n",
    "\n",
    "# write a training loop\n",
    "n_training_steps = 100000\n",
    "for step in range(n_training_steps):\n",
    "    xb, yb = get_batch(\"train\")\n",
    "    y_pred = model(xb)\n",
    "    # print(y_pred.shape) # (batch_size, block_size, vocab_size)\n",
    "    # print(yb.shape) # (batch_size, block_size)\n",
    "    b, t, c = y_pred.shape\n",
    "    # alternatively, y_pred.view(b*t, c) and yb.view(b*t)\n",
    "    loss = loss_fn(y_pred.view(-1, vocab_size), yb.view(-1)) # view(-1) let the pytorch guess \n",
    "    if step % 100 == 0:\n",
    "        print(f\"step {step}, loss {loss.item()}\")\n",
    "    optimizer.zero_grad()\n",
    "    loss.backward()\n",
    "    optimizer.step()"
   ]
  },
  {
   "cell_type": "code",
   "execution_count": 71,
   "metadata": {},
   "outputs": [
    {
     "ename": "RuntimeError",
     "evalue": "Tensors must have same number of dimensions: got 2 and 3",
     "output_type": "error",
     "traceback": [
      "\u001b[0;31m---------------------------------------------------------------------------\u001b[0m",
      "\u001b[0;31mRuntimeError\u001b[0m                              Traceback (most recent call last)",
      "Cell \u001b[0;32mIn[71], line 10\u001b[0m\n\u001b[1;32m      7\u001b[0m             next_token \u001b[38;5;241m=\u001b[39m torch\u001b[38;5;241m.\u001b[39mmultinomial(y_pred[:, \u001b[38;5;241m-\u001b[39m\u001b[38;5;241m1\u001b[39m, :]\u001b[38;5;241m.\u001b[39msoftmax(\u001b[38;5;241m-\u001b[39m\u001b[38;5;241m1\u001b[39m), \u001b[38;5;241m1\u001b[39m)\n\u001b[1;32m      8\u001b[0m             \u001b[38;5;28minput\u001b[39m \u001b[38;5;241m=\u001b[39m torch\u001b[38;5;241m.\u001b[39mcat([\u001b[38;5;28minput\u001b[39m, next_token\u001b[38;5;241m.\u001b[39munsqueeze(\u001b[38;5;241m0\u001b[39m)], dim\u001b[38;5;241m=\u001b[39m\u001b[38;5;241m1\u001b[39m)\n\u001b[0;32m---> 10\u001b[0m output \u001b[38;5;241m=\u001b[39m \u001b[43mgenerate\u001b[49m\u001b[43m(\u001b[49m\u001b[43mxb\u001b[49m\u001b[43m,\u001b[49m\u001b[43m \u001b[49m\u001b[38;5;241;43m10\u001b[39;49m\u001b[43m)\u001b[49m\n",
      "Cell \u001b[0;32mIn[71], line 8\u001b[0m, in \u001b[0;36mgenerate\u001b[0;34m(input, max_length)\u001b[0m\n\u001b[1;32m      6\u001b[0m y_pred \u001b[38;5;241m=\u001b[39m model(\u001b[38;5;28minput\u001b[39m) \u001b[38;5;66;03m# (batchsize, block_size, vocab_size)\u001b[39;00m\n\u001b[1;32m      7\u001b[0m next_token \u001b[38;5;241m=\u001b[39m torch\u001b[38;5;241m.\u001b[39mmultinomial(y_pred[:, \u001b[38;5;241m-\u001b[39m\u001b[38;5;241m1\u001b[39m, :]\u001b[38;5;241m.\u001b[39msoftmax(\u001b[38;5;241m-\u001b[39m\u001b[38;5;241m1\u001b[39m), \u001b[38;5;241m1\u001b[39m)\n\u001b[0;32m----> 8\u001b[0m \u001b[38;5;28minput\u001b[39m \u001b[38;5;241m=\u001b[39m \u001b[43mtorch\u001b[49m\u001b[38;5;241;43m.\u001b[39;49m\u001b[43mcat\u001b[49m\u001b[43m(\u001b[49m\u001b[43m[\u001b[49m\u001b[38;5;28;43minput\u001b[39;49m\u001b[43m,\u001b[49m\u001b[43m \u001b[49m\u001b[43mnext_token\u001b[49m\u001b[38;5;241;43m.\u001b[39;49m\u001b[43munsqueeze\u001b[49m\u001b[43m(\u001b[49m\u001b[38;5;241;43m0\u001b[39;49m\u001b[43m)\u001b[49m\u001b[43m]\u001b[49m\u001b[43m,\u001b[49m\u001b[43m \u001b[49m\u001b[43mdim\u001b[49m\u001b[38;5;241;43m=\u001b[39;49m\u001b[38;5;241;43m1\u001b[39;49m\u001b[43m)\u001b[49m\n",
      "\u001b[0;31mRuntimeError\u001b[0m: Tensors must have same number of dimensions: got 2 and 3"
     ]
    }
   ],
   "source": [
    "# generate. instead of doing argmax, do a multinomial sampling, interesting....\n",
    "# input, xb; continue to generate the next token; no need keep the blocksize... shifting the input for every step\n",
    "def generate(input, max_length=10):\n",
    "    with torch.no_grad():\n",
    "        for i in range(max_length):\n",
    "            y_pred = model(input) # (batchsize, block_size, vocab_size)\n",
    "            next_token = torch.multinomial(y_pred[:, -1, :].softmax(-1), 1)\n",
    "            input = torch.cat([input, next_token.unsqueeze(0)], dim=1)\n",
    "\n",
    "output = generate(xb, 10)"
   ]
  },
  {
   "cell_type": "code",
   "execution_count": null,
   "metadata": {},
   "outputs": [],
   "source": []
  }
 ],
 "metadata": {
  "kernelspec": {
   "display_name": "nanoGPT",
   "language": "python",
   "name": "python3"
  },
  "language_info": {
   "codemirror_mode": {
    "name": "ipython",
    "version": 3
   },
   "file_extension": ".py",
   "mimetype": "text/x-python",
   "name": "python",
   "nbconvert_exporter": "python",
   "pygments_lexer": "ipython3",
   "version": "3.10.13"
  }
 },
 "nbformat": 4,
 "nbformat_minor": 2
}
